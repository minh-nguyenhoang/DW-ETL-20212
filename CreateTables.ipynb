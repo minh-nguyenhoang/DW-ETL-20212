{
 "cells": [
  {
   "cell_type": "code",
   "execution_count": 103,
   "metadata": {},
   "outputs": [],
   "source": [
    "import pandas as pd\n",
    "import pyodbc"
   ]
  },
  {
   "cell_type": "markdown",
   "metadata": {},
   "source": [
    "# Initialize connection parameters"
   ]
  },
  {
   "cell_type": "code",
   "execution_count": 104,
   "metadata": {},
   "outputs": [],
   "source": [
    "DB = {'servername': 'MSI',\n",
    "      'source': 'AdventureWorks2019',\n",
    "      'destination':'DW',\n",
    "      'user':'user1',\n",
    "      'pass':'123456'}"
   ]
  },
  {
   "cell_type": "markdown",
   "metadata": {},
   "source": [
    "# Create connection"
   ]
  },
  {
   "cell_type": "code",
   "execution_count": 105,
   "metadata": {},
   "outputs": [],
   "source": [
    "#SourceDB\n",
    "sourceConn = pyodbc.connect('DRIVER={ODBC Driver 17 for SQL Server};SERVER=' + DB['servername'] + ';DATABASE=' + DB['source'] +';UID='+ DB['user']+';PWD='+DB['pass']+ ';Trusted_Connection=yes')\n",
    "\n",
    "#DestinationDB\n",
    "destConn = pyodbc.connect('DRIVER={ODBC Driver 17 for SQL Server};SERVER=' + DB['servername'] + ';DATABASE='+DB['destination'] +';UID='+ DB['user']+';PWD='+DB['pass']+ ';Trusted_Connection=yes')\n",
    "destConn.setdecoding(pyodbc.SQL_CHAR, encoding='latin1')\n",
    "destConn.setencoding('latin1')\n",
    "cursor=destConn.cursor()"
   ]
  },
  {
   "cell_type": "markdown",
   "metadata": {},
   "source": [
    "# Create DIM tables"
   ]
  },
  {
   "cell_type": "code",
   "execution_count": 106,
   "metadata": {},
   "outputs": [],
   "source": [
    "cursor.execute('''CREATE TABLE DimDate (\n",
    "    FullDate date  primary key,\n",
    "    DayOfWeek varchar(10)\n",
    ")''')\n",
    "cursor.commit()\n"
   ]
  },
  {
   "cell_type": "code",
   "execution_count": 107,
   "metadata": {},
   "outputs": [],
   "source": [
    "cursor.execute('''CREATE TABLE DimShipMethod (\n",
    "    ShipMethodID int  primary key,\n",
    "    Name varchar(50)\n",
    ")''')\n",
    "\n",
    "cursor.execute('''CREATE TABLE DimProduct (\n",
    "    ProductID int primary key,\n",
    "    Name varchar(50),\n",
    "    ProductLine varchar(50)\n",
    ")''')\n",
    "\n",
    "cursor.execute('''CREATE TABLE DimEmployee (\n",
    "    EmployeeID int primary key,\n",
    "    Name varchar(50)\n",
    ")''')\n",
    "\n",
    "cursor.execute('''CREATE TABLE DimVendor (\n",
    "    VendorID int primary key,\n",
    "    Name varchar(50),\n",
    "    CreditRating varchar(20)\n",
    ")''')\n",
    "\n",
    "cursor.execute('''CREATE TABLE DimPurchasingStatus (\n",
    "    PurchasingStatusID int primary key,\n",
    "    Name varchar(50)\n",
    ")''')\n",
    "\n",
    "\n",
    "cursor.execute('''CREATE TABLE DimTerritory (\n",
    "    TerritoryID int primary key,\n",
    "    TerritoryGroup varchar(20),\n",
    "    Country varchar(50),\n",
    "    CountryRegion varchar(50)\n",
    ")''')\n",
    "\n",
    "cursor.execute('''CREATE TABLE DimSalesStatus (\n",
    "    SalesStatusID int primary key,\n",
    "    Name varchar(50)\n",
    ")''')\n",
    "\n",
    "cursor.execute('''CREATE TABLE DimOnlineOrderFlag (\n",
    "    OnlineOrderFlagID int primary key,\n",
    "    Name varchar(50)\n",
    ")''')\n",
    "\n",
    "cursor.commit()\n"
   ]
  },
  {
   "cell_type": "markdown",
   "metadata": {},
   "source": [
    "# Create Facts"
   ]
  },
  {
   "cell_type": "code",
   "execution_count": 108,
   "metadata": {},
   "outputs": [],
   "source": [
    "cursor.execute('''CREATE TABLE FactPurchaseOrders (\n",
    "    PurchaseOrderID int  not null,\n",
    "    PurchaseOrderDetailID int  not null,\n",
    "    ProductID int FOREIGN KEY REFERENCES DimProduct(ProductID),\n",
    "    StatusID int FOREIGN KEY REFERENCES DimPurchasingStatus(PurchasingStatusID),\n",
    "    EmployeeID int FOREIGN KEY REFERENCES DimEmployee(EmployeeID),\n",
    "    VendorID int FOREIGN KEY REFERENCES DimVendor(VendorID),\n",
    "    ShipMethodID int FOREIGN KEY REFERENCES DimShipMethod(ShipMethodID),\n",
    "    OrderDate date FOREIGN KEY REFERENCES DimDate(FullDate),\n",
    "    DueDate date FOREIGN KEY REFERENCES DimDate(FullDate),\n",
    "    ShipDate date FOREIGN KEY REFERENCES DimDate(FullDate),\n",
    "    LineTotal money,\n",
    "    OrderQty int,\n",
    "    ReceivedQty decimal(8,2),\n",
    "    RejectedQty decimal(8,2),\n",
    "    StockedQty decimal(9,2)\n",
    "    CONSTRAINT PK_PurchasingOrder PRIMARY KEY (PurchaseOrderID,PurchaseOrderDetailID)\n",
    ")''')\n",
    "cursor.commit()\n"
   ]
  },
  {
   "cell_type": "code",
   "execution_count": 109,
   "metadata": {},
   "outputs": [],
   "source": [
    "cursor.execute('''CREATE TABLE FactSalesOrders (\n",
    "    SalesOrderID int  not null,\n",
    "    SalesOrderDetailID int  not null,\n",
    "    ProductID int FOREIGN KEY REFERENCES DimProduct(ProductID),\n",
    "    StatusID int FOREIGN KEY REFERENCES DimSalesStatus(SalesStatusID),\n",
    "    TerritoryID int FOREIGN KEY REFERENCES DimTerritory(TerritoryID),\n",
    "    ShipMethodID int FOREIGN KEY REFERENCES DimShipMethod(ShipMethodID),\n",
    "    OnlineOrderFlagID int FOREIGN KEY REFERENCES DimOnlineOrderFlag(OnlineOrderFlagID),\n",
    "    OrderDate date FOREIGN KEY REFERENCES DimDate(FullDate),\n",
    "    DueDate date FOREIGN KEY REFERENCES DimDate(FullDate),\n",
    "    ShipDate date FOREIGN KEY REFERENCES DimDate(FullDate),\n",
    "    LineTotal money,\n",
    "    OrderQty int,\n",
    "    CONSTRAINT PK_SalesOrder PRIMARY KEY (SalesOrderID,SalesOrderDetailID)\n",
    "\n",
    ")''')\n",
    "cursor.commit()\n"
   ]
  },
  {
   "cell_type": "code",
   "execution_count": null,
   "metadata": {},
   "outputs": [],
   "source": []
  }
 ],
 "metadata": {
  "kernelspec": {
   "display_name": "Python 3.10.4 64-bit",
   "language": "python",
   "name": "python3"
  },
  "language_info": {
   "codemirror_mode": {
    "name": "ipython",
    "version": 3
   },
   "file_extension": ".py",
   "mimetype": "text/x-python",
   "name": "python",
   "nbconvert_exporter": "python",
   "pygments_lexer": "ipython3",
   "version": "3.10.4"
  },
  "orig_nbformat": 4,
  "vscode": {
   "interpreter": {
    "hash": "31671a60cee805c34c73116577b485118ff3a75c458d3004d49632c19702ac60"
   }
  }
 },
 "nbformat": 4,
 "nbformat_minor": 2
}
