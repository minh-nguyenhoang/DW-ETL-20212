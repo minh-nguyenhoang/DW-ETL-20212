{
 "cells": [
  {
   "cell_type": "code",
   "execution_count": 42,
   "metadata": {},
   "outputs": [],
   "source": [
    "import pandas as pd\n",
    "import pyodbc"
   ]
  },
  {
   "cell_type": "markdown",
   "metadata": {},
   "source": [
    "# Initialize connection parameters"
   ]
  },
  {
   "cell_type": "code",
   "execution_count": 43,
   "metadata": {},
   "outputs": [],
   "source": [
    "DB = {'servername': 'MSI',\n",
    "      'source': 'AdventureWorks2019',\n",
    "      'destination':'DW',\n",
    "      'user':'user1',\n",
    "      'pass':'123456'}"
   ]
  },
  {
   "cell_type": "markdown",
   "metadata": {},
   "source": [
    "# Create connection"
   ]
  },
  {
   "cell_type": "code",
   "execution_count": 44,
   "metadata": {},
   "outputs": [],
   "source": [
    "#SourceDB\n",
    "sourceConn = pyodbc.connect('DRIVER={ODBC Driver 17 for SQL Server};SERVER=' + DB['servername'] + ';DATABASE=' + DB['source'] +';UID='+ DB['user']+';PWD='+DB['pass']+ ';Trusted_Connection=yes')\n",
    "\n",
    "#DestinationDB\n",
    "destConn = pyodbc.connect('DRIVER={ODBC Driver 17 for SQL Server};SERVER=' + DB['servername'] + ';DATABASE='+DB['destination'] +';UID='+ DB['user']+';PWD='+DB['pass']+ ';Trusted_Connection=yes')\n",
    "cursor=destConn.cursor()"
   ]
  },
  {
   "cell_type": "code",
   "execution_count": 45,
   "metadata": {},
   "outputs": [
    {
     "name": "stdout",
     "output_type": "stream",
     "text": [
      "0      2011-04-25\n",
      "1      2011-05-09\n",
      "2      2011-12-23\n",
      "3      2011-12-24\n",
      "4      2012-01-17\n",
      "          ...    \n",
      "292    2014-08-09\n",
      "293    2014-08-10\n",
      "294    2014-08-11\n",
      "295    2014-08-12\n",
      "296    2015-08-12\n",
      "Name: ModifiedDate, Length: 297, dtype: object\n"
     ]
    },
    {
     "name": "stderr",
     "output_type": "stream",
     "text": [
      "c:\\Users\\ADMIN\\AppData\\Local\\Programs\\Python\\Python310\\lib\\site-packages\\pandas\\io\\sql.py:761: UserWarning: pandas only support SQLAlchemy connectable(engine/connection) ordatabase string URI or sqlite3 DBAPI2 connectionother DBAPI2 objects are not tested, please consider using SQLAlchemy\n",
      "  warnings.warn(\n"
     ]
    }
   ],
   "source": [
    "df = pd.read_sql('SELECT * FROM Purchasing.[PurchaseOrderHeader]',sourceConn)\n",
    "df['ModifiedDate'] =pd.to_datetime(df['ModifiedDate']).dt.date\n",
    "date=df['ModifiedDate'].drop_duplicates().reset_index(drop=True)\n",
    "print(date)"
   ]
  },
  {
   "cell_type": "code",
   "execution_count": 46,
   "metadata": {},
   "outputs": [],
   "source": [
    "# for index, row in date.iterrows():\n",
    "#       cursor.execute('''INSERT INTO dbo.DateDim (date) values(?)''', row.ModifiedDate)\n",
    "#       cursor.commit()\n",
    "# datedim2 = pd.read_sql('SELECT * FROM dbo.DateDim',destConn)\n",
    "# print(datedim2)\n"
   ]
  },
  {
   "cell_type": "markdown",
   "metadata": {},
   "source": [
    "# Create DIM tables"
   ]
  },
  {
   "cell_type": "code",
   "execution_count": 47,
   "metadata": {},
   "outputs": [],
   "source": [
    "cursor.execute('''CREATE TABLE DimDate (\n",
    "    FullDate date  primary key,\n",
    "    DayOfWeek varchar(10)\n",
    ")''')\n",
    "cursor.commit()\n"
   ]
  },
  {
   "cell_type": "code",
   "execution_count": 48,
   "metadata": {},
   "outputs": [],
   "source": [
    "cursor.execute('''CREATE TABLE DimShipMethod (\n",
    "    ShipMethodID int  primary key,\n",
    "    Name varchar(50)\n",
    ")''')\n",
    "\n",
    "cursor.execute('''CREATE TABLE DimProduct (\n",
    "    ProductID int primary key,\n",
    "    Name varchar(50),\n",
    "    Color varchar(50),\n",
    "    Size varchar(50),\n",
    "    Class varchar(50),\n",
    "    Style varchar(50)\n",
    ")''')\n",
    "\n",
    "cursor.execute('''CREATE TABLE DimEmployee (\n",
    "    EmployeeID int primary key,\n",
    "    Name varchar(50)\n",
    ")''')\n",
    "\n",
    "cursor.execute('''CREATE TABLE DimVendor (\n",
    "    VendorID int primary key,\n",
    "    Name varchar(50),\n",
    "    CreditRating varchar(20)\n",
    ")''')\n",
    "\n",
    "cursor.execute('''CREATE TABLE DimPurchasingStatus (\n",
    "    PurchasingStatusID int primary key,\n",
    "    Name varchar(50)\n",
    ")''')\n",
    "\n",
    "cursor.execute('''CREATE TABLE DimCustomer (\n",
    "    CustomerID int primary key,\n",
    "    PersonName varchar(50),\n",
    "    StoreName varchar(50),\n",
    "    TerritoryName varchar(50),\n",
    "    CountryOrRegion varchar(50),\n",
    ")''')\n",
    "\n",
    "cursor.execute('''CREATE TABLE DimSalesStatus (\n",
    "    SalesStatusID int primary key,\n",
    "    Name varchar(50)\n",
    ")''')\n",
    "\n",
    "cursor.execute('''CREATE TABLE DimOnlineOrderFlag (\n",
    "    OnlineOrderFlagID int primary key,\n",
    "    Name varchar(50)\n",
    ")''')\n",
    "\n",
    "cursor.commit()\n"
   ]
  },
  {
   "cell_type": "markdown",
   "metadata": {},
   "source": [
    "# Create Facts"
   ]
  },
  {
   "cell_type": "code",
   "execution_count": 49,
   "metadata": {},
   "outputs": [],
   "source": [
    "cursor.execute('''CREATE TABLE FactPurchasingOrders (\n",
    "    PurchaseOrderID int  not null,\n",
    "    PurchaseOrderDetailID int  not null,\n",
    "    ProductID int FOREIGN KEY REFERENCES DimProduct(ProductID),\n",
    "    StatusID int FOREIGN KEY REFERENCES DimPurchasingStatus(PurchasingStatusID),\n",
    "    EmployeeID int FOREIGN KEY REFERENCES DimEmployee(EmployeeID),\n",
    "    VendorID int FOREIGN KEY REFERENCES DimVendor(VendorID),\n",
    "    ShipMethodID int FOREIGN KEY REFERENCES DimShipMethod(ShipMethodID),\n",
    "    OrderDate date FOREIGN KEY REFERENCES DimDate(FullDate),\n",
    "    ShipDate date FOREIGN KEY REFERENCES DimDate(FullDate),\n",
    "    LineTotal money,\n",
    "    ReceivedQty decimal(8,2),\n",
    "    RejectedQty decimal(8,2),\n",
    "    StockQty decimal(9,2)\n",
    "    CONSTRAINT PK_PurchasingOrder PRIMARY KEY (PurchaseOrderID,PurchaseOrderDetailID)\n",
    ")''')\n",
    "cursor.commit()\n"
   ]
  },
  {
   "cell_type": "code",
   "execution_count": 50,
   "metadata": {},
   "outputs": [],
   "source": [
    "cursor.execute('''CREATE TABLE FactSalesOrders (\n",
    "    SalesOrderID int  not null,\n",
    "    SalesOrderDetailID int  not null,\n",
    "    ProductID int FOREIGN KEY REFERENCES DimProduct(ProductID),\n",
    "    StatusID int FOREIGN KEY REFERENCES DimSalesStatus(SalesStatusID),\n",
    "    CustomerID int FOREIGN KEY REFERENCES DimCustomer(CustomerID),\n",
    "    ShipMethodID int FOREIGN KEY REFERENCES DimShipMethod(ShipMethodID),\n",
    "    OrderDate date FOREIGN KEY REFERENCES DimDate(FullDate),\n",
    "    DueDate date FOREIGN KEY REFERENCES DimDate(FullDate),\n",
    "    ShipDate date FOREIGN KEY REFERENCES DimDate(FullDate),\n",
    "    LineTotal money,\n",
    "    OrderQty int,\n",
    "    CONSTRAINT PK_SalesOrder PRIMARY KEY (SalesOrderID,SalesOrderDetailID)\n",
    "\n",
    ")''')\n",
    "cursor.commit()\n"
   ]
  },
  {
   "cell_type": "code",
   "execution_count": null,
   "metadata": {},
   "outputs": [],
   "source": []
  }
 ],
 "metadata": {
  "kernelspec": {
   "display_name": "Python 3.10.4 64-bit",
   "language": "python",
   "name": "python3"
  },
  "language_info": {
   "codemirror_mode": {
    "name": "ipython",
    "version": 3
   },
   "file_extension": ".py",
   "mimetype": "text/x-python",
   "name": "python",
   "nbconvert_exporter": "python",
   "pygments_lexer": "ipython3",
   "version": "3.10.4"
  },
  "orig_nbformat": 4,
  "vscode": {
   "interpreter": {
    "hash": "31671a60cee805c34c73116577b485118ff3a75c458d3004d49632c19702ac60"
   }
  }
 },
 "nbformat": 4,
 "nbformat_minor": 2
}
